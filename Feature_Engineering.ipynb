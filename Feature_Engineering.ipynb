{
 "cells": [
  {
   "cell_type": "markdown",
   "metadata": {},
   "source": [
    "## Imports"
   ]
  },
  {
   "cell_type": "code",
   "execution_count": 1,
   "metadata": {},
   "outputs": [],
   "source": [
    "import pandas as pd\n",
    "from my_model_package.forecasting.utils import pre_processing\n",
    "import seaborn as sns\n",
    "from sklearn.preprocessing import LabelEncoder"
   ]
  },
  {
   "cell_type": "markdown",
   "metadata": {},
   "source": [
    "## Load Data"
   ]
  },
  {
   "cell_type": "code",
   "execution_count": 2,
   "metadata": {},
   "outputs": [
    {
     "name": "stderr",
     "output_type": "stream",
     "text": [
      "/var/folders/zw/4h84gc_n5ds1nwwpkbv509c00000gn/T/ipykernel_12840/1477661346.py:1: DtypeWarning: Columns (7,9,13,14,15,35) have mixed types. Specify dtype option on import or set low_memory=False.\n",
      "  df = pd.read_csv('data/blight_violations.csv')\n"
     ]
    }
   ],
   "source": [
    "df = pd.read_csv('data/blight_violations.csv')"
   ]
  },
  {
   "cell_type": "markdown",
   "metadata": {},
   "source": [
    "## Apply Processing Function"
   ]
  },
  {
   "cell_type": "code",
   "execution_count": 3,
   "metadata": {},
   "outputs": [
    {
     "name": "stderr",
     "output_type": "stream",
     "text": [
      "/Users/pierre.muller/Desktop/Projet stan/ML_Deployment-Judgment_Outputs/my_model_package/forecasting/utils.py:141: SettingWithCopyWarning: \n",
      "A value is trying to be set on a copy of a slice from a DataFrame.\n",
      "Try using .loc[row_indexer,col_indexer] = value instead\n",
      "\n",
      "See the caveats in the documentation: https://pandas.pydata.org/pandas-docs/stable/user_guide/indexing.html#returning-a-view-versus-a-copy\n",
      "  df['violation_category'] = df['violation_description'].astype(str).apply(lambda x: map_violation_category(x))\n",
      "/Users/pierre.muller/Desktop/Projet stan/ML_Deployment-Judgment_Outputs/my_model_package/forecasting/utils.py:143: SettingWithCopyWarning: \n",
      "A value is trying to be set on a copy of a slice from a DataFrame.\n",
      "Try using .loc[row_indexer,col_indexer] = value instead\n",
      "\n",
      "See the caveats in the documentation: https://pandas.pydata.org/pandas-docs/stable/user_guide/indexing.html#returning-a-view-versus-a-copy\n",
      "  df['violation_category'] = df.apply(convert_to_other, axis=1)\n",
      "/Users/pierre.muller/Desktop/Projet stan/ML_Deployment-Judgment_Outputs/my_model_package/forecasting/utils.py:172: SettingWithCopyWarning: \n",
      "A value is trying to be set on a copy of a slice from a DataFrame.\n",
      "Try using .loc[row_indexer,col_indexer] = value instead\n",
      "\n",
      "See the caveats in the documentation: https://pandas.pydata.org/pandas-docs/stable/user_guide/indexing.html#returning-a-view-versus-a-copy\n",
      "  df['discount_status'] = df.apply(amount_to_discount, axis=1)\n",
      "/Users/pierre.muller/Desktop/Projet stan/ML_Deployment-Judgment_Outputs/my_model_package/forecasting/utils.py:175: SettingWithCopyWarning: \n",
      "A value is trying to be set on a copy of a slice from a DataFrame.\n",
      "Try using .loc[row_indexer,col_indexer] = value instead\n",
      "\n",
      "See the caveats in the documentation: https://pandas.pydata.org/pandas-docs/stable/user_guide/indexing.html#returning-a-view-versus-a-copy\n",
      "  df['violator_origin'] = df.apply(state_violator_origin, axis=1)\n",
      "/Users/pierre.muller/Desktop/Projet stan/ML_Deployment-Judgment_Outputs/my_model_package/forecasting/utils.py:179: SettingWithCopyWarning: \n",
      "A value is trying to be set on a copy of a slice from a DataFrame\n",
      "\n",
      "See the caveats in the documentation: https://pandas.pydata.org/pandas-docs/stable/user_guide/indexing.html#returning-a-view-versus-a-copy\n",
      "  df.dropna(subset=columns_to_drop_only_NaN, inplace=True)\n",
      "/Users/pierre.muller/Desktop/Projet stan/ML_Deployment-Judgment_Outputs/my_model_package/forecasting/utils.py:182: SettingWithCopyWarning: \n",
      "A value is trying to be set on a copy of a slice from a DataFrame\n",
      "\n",
      "See the caveats in the documentation: https://pandas.pydata.org/pandas-docs/stable/user_guide/indexing.html#returning-a-view-versus-a-copy\n",
      "  df.drop(columns=columns_to_drop_after_transformation, inplace=True)\n",
      "/Users/pierre.muller/Desktop/Projet stan/ML_Deployment-Judgment_Outputs/my_model_package/forecasting/utils.py:114: SettingWithCopyWarning: \n",
      "A value is trying to be set on a copy of a slice from a DataFrame.\n",
      "Try using .loc[row_indexer,col_indexer] = value instead\n",
      "\n",
      "See the caveats in the documentation: https://pandas.pydata.org/pandas-docs/stable/user_guide/indexing.html#returning-a-view-versus-a-copy\n",
      "  df[col] = label_encoder.fit_transform(df[col])\n",
      "/Users/pierre.muller/Desktop/Projet stan/ML_Deployment-Judgment_Outputs/my_model_package/forecasting/utils.py:114: SettingWithCopyWarning: \n",
      "A value is trying to be set on a copy of a slice from a DataFrame.\n",
      "Try using .loc[row_indexer,col_indexer] = value instead\n",
      "\n",
      "See the caveats in the documentation: https://pandas.pydata.org/pandas-docs/stable/user_guide/indexing.html#returning-a-view-versus-a-copy\n",
      "  df[col] = label_encoder.fit_transform(df[col])\n",
      "/Users/pierre.muller/Desktop/Projet stan/ML_Deployment-Judgment_Outputs/my_model_package/forecasting/utils.py:114: SettingWithCopyWarning: \n",
      "A value is trying to be set on a copy of a slice from a DataFrame.\n",
      "Try using .loc[row_indexer,col_indexer] = value instead\n",
      "\n",
      "See the caveats in the documentation: https://pandas.pydata.org/pandas-docs/stable/user_guide/indexing.html#returning-a-view-versus-a-copy\n",
      "  df[col] = label_encoder.fit_transform(df[col])\n",
      "/Users/pierre.muller/Desktop/Projet stan/ML_Deployment-Judgment_Outputs/my_model_package/forecasting/utils.py:114: SettingWithCopyWarning: \n",
      "A value is trying to be set on a copy of a slice from a DataFrame.\n",
      "Try using .loc[row_indexer,col_indexer] = value instead\n",
      "\n",
      "See the caveats in the documentation: https://pandas.pydata.org/pandas-docs/stable/user_guide/indexing.html#returning-a-view-versus-a-copy\n",
      "  df[col] = label_encoder.fit_transform(df[col])\n",
      "/Users/pierre.muller/Desktop/Projet stan/ML_Deployment-Judgment_Outputs/my_model_package/forecasting/utils.py:114: SettingWithCopyWarning: \n",
      "A value is trying to be set on a copy of a slice from a DataFrame.\n",
      "Try using .loc[row_indexer,col_indexer] = value instead\n",
      "\n",
      "See the caveats in the documentation: https://pandas.pydata.org/pandas-docs/stable/user_guide/indexing.html#returning-a-view-versus-a-copy\n",
      "  df[col] = label_encoder.fit_transform(df[col])\n",
      "/Users/pierre.muller/Desktop/Projet stan/ML_Deployment-Judgment_Outputs/my_model_package/forecasting/utils.py:114: SettingWithCopyWarning: \n",
      "A value is trying to be set on a copy of a slice from a DataFrame.\n",
      "Try using .loc[row_indexer,col_indexer] = value instead\n",
      "\n",
      "See the caveats in the documentation: https://pandas.pydata.org/pandas-docs/stable/user_guide/indexing.html#returning-a-view-versus-a-copy\n",
      "  df[col] = label_encoder.fit_transform(df[col])\n"
     ]
    }
   ],
   "source": [
    "df = pre_processing(df)"
   ]
  },
  {
   "cell_type": "code",
   "execution_count": 5,
   "metadata": {},
   "outputs": [],
   "source": [
    "data = df.copy()"
   ]
  },
  {
   "cell_type": "markdown",
   "metadata": {},
   "source": [
    "## Print df"
   ]
  },
  {
   "cell_type": "code",
   "execution_count": 10,
   "metadata": {},
   "outputs": [
    {
     "data": {
      "text/html": [
       "<div>\n",
       "<style scoped>\n",
       "    .dataframe tbody tr th:only-of-type {\n",
       "        vertical-align: middle;\n",
       "    }\n",
       "\n",
       "    .dataframe tbody tr th {\n",
       "        vertical-align: top;\n",
       "    }\n",
       "\n",
       "    .dataframe thead th {\n",
       "        text-align: right;\n",
       "    }\n",
       "</style>\n",
       "<table border=\"1\" class=\"dataframe\">\n",
       "  <thead>\n",
       "    <tr style=\"text-align: right;\">\n",
       "      <th></th>\n",
       "      <th>agency_name</th>\n",
       "      <th>violation_street_name</th>\n",
       "      <th>state</th>\n",
       "      <th>violation_date</th>\n",
       "      <th>hearing_date</th>\n",
       "      <th>hearing_time</th>\n",
       "      <th>judgment_date</th>\n",
       "      <th>disposition</th>\n",
       "      <th>fine_amount</th>\n",
       "      <th>admin_fee</th>\n",
       "      <th>state_fee</th>\n",
       "      <th>late_fee</th>\n",
       "      <th>discount_amount</th>\n",
       "      <th>judgment_amount</th>\n",
       "      <th>balance_due</th>\n",
       "      <th>payment_status</th>\n",
       "      <th>violation_category</th>\n",
       "      <th>is_judgment_later</th>\n",
       "    </tr>\n",
       "  </thead>\n",
       "  <tbody>\n",
       "    <tr>\n",
       "      <th>1</th>\n",
       "      <td>Buildings, Safety Engineering &amp; Env Department</td>\n",
       "      <td>Charlevoix</td>\n",
       "      <td>Mi</td>\n",
       "      <td>2006-11-08 00:00:00</td>\n",
       "      <td>2006-11-30 00:00:00</td>\n",
       "      <td>9:00AM</td>\n",
       "      <td>2006-11-30 10:23:59</td>\n",
       "      <td>Responsible by Default</td>\n",
       "      <td>250.0</td>\n",
       "      <td>20.0</td>\n",
       "      <td>10.0</td>\n",
       "      <td>0.0</td>\n",
       "      <td>0.0</td>\n",
       "      <td>280.0</td>\n",
       "      <td>280.0</td>\n",
       "      <td>NO PAYMENT</td>\n",
       "      <td>No Certificate</td>\n",
       "      <td>1</td>\n",
       "    </tr>\n",
       "    <tr>\n",
       "      <th>2</th>\n",
       "      <td>Buildings, Safety Engineering &amp; Env Department</td>\n",
       "      <td>Chrysler</td>\n",
       "      <td>Mi</td>\n",
       "      <td>2006-11-08 00:00:00</td>\n",
       "      <td>2006-11-30 00:00:00</td>\n",
       "      <td>9:00AM</td>\n",
       "      <td>2006-11-30 00:00:00</td>\n",
       "      <td>Responsible by Admission</td>\n",
       "      <td>250.0</td>\n",
       "      <td>20.0</td>\n",
       "      <td>10.0</td>\n",
       "      <td>0.0</td>\n",
       "      <td>0.0</td>\n",
       "      <td>280.0</td>\n",
       "      <td>280.0</td>\n",
       "      <td>PAID IN FULL</td>\n",
       "      <td>No Certificate</td>\n",
       "      <td>0</td>\n",
       "    </tr>\n",
       "    <tr>\n",
       "      <th>3</th>\n",
       "      <td>Buildings, Safety Engineering &amp; Env Department</td>\n",
       "      <td>St marys</td>\n",
       "      <td>Mi</td>\n",
       "      <td>2006-11-08 00:00:00</td>\n",
       "      <td>2006-12-13 00:00:00</td>\n",
       "      <td>3:00PM</td>\n",
       "      <td>2006-12-13 15:23:18</td>\n",
       "      <td>Responsible by Default</td>\n",
       "      <td>250.0</td>\n",
       "      <td>20.0</td>\n",
       "      <td>10.0</td>\n",
       "      <td>0.0</td>\n",
       "      <td>0.0</td>\n",
       "      <td>280.0</td>\n",
       "      <td>280.0</td>\n",
       "      <td>NO PAYMENT</td>\n",
       "      <td>No Certificate</td>\n",
       "      <td>1</td>\n",
       "    </tr>\n",
       "    <tr>\n",
       "      <th>6</th>\n",
       "      <td>Buildings, Safety Engineering &amp; Env Department</td>\n",
       "      <td>Warren</td>\n",
       "      <td>Mi</td>\n",
       "      <td>2006-11-08 00:00:00</td>\n",
       "      <td>2006-11-30 00:00:00</td>\n",
       "      <td>9:00AM</td>\n",
       "      <td>2006-11-30 10:23:03</td>\n",
       "      <td>Responsible by Default</td>\n",
       "      <td>250.0</td>\n",
       "      <td>20.0</td>\n",
       "      <td>10.0</td>\n",
       "      <td>0.0</td>\n",
       "      <td>0.0</td>\n",
       "      <td>280.0</td>\n",
       "      <td>280.0</td>\n",
       "      <td>NO PAYMENT</td>\n",
       "      <td>No Certificate</td>\n",
       "      <td>1</td>\n",
       "    </tr>\n",
       "    <tr>\n",
       "      <th>9</th>\n",
       "      <td>Buildings, Safety Engineering &amp; Env Department</td>\n",
       "      <td>Oakland</td>\n",
       "      <td>Mi</td>\n",
       "      <td>2006-11-08 00:00:00</td>\n",
       "      <td>2006-11-30 00:00:00</td>\n",
       "      <td>9:00AM</td>\n",
       "      <td>2006-11-30 10:26:26</td>\n",
       "      <td>Responsible by Default</td>\n",
       "      <td>250.0</td>\n",
       "      <td>20.0</td>\n",
       "      <td>10.0</td>\n",
       "      <td>0.0</td>\n",
       "      <td>0.0</td>\n",
       "      <td>280.0</td>\n",
       "      <td>280.0</td>\n",
       "      <td>NO PAYMENT</td>\n",
       "      <td>No Certificate</td>\n",
       "      <td>1</td>\n",
       "    </tr>\n",
       "  </tbody>\n",
       "</table>\n",
       "</div>"
      ],
      "text/plain": [
       "                                      agency_name violation_street_name state  \\\n",
       "1  Buildings, Safety Engineering & Env Department            Charlevoix    Mi   \n",
       "2  Buildings, Safety Engineering & Env Department              Chrysler    Mi   \n",
       "3  Buildings, Safety Engineering & Env Department              St marys    Mi   \n",
       "6  Buildings, Safety Engineering & Env Department                Warren    Mi   \n",
       "9  Buildings, Safety Engineering & Env Department               Oakland    Mi   \n",
       "\n",
       "        violation_date         hearing_date hearing_time        judgment_date  \\\n",
       "1  2006-11-08 00:00:00  2006-11-30 00:00:00       9:00AM  2006-11-30 10:23:59   \n",
       "2  2006-11-08 00:00:00  2006-11-30 00:00:00       9:00AM  2006-11-30 00:00:00   \n",
       "3  2006-11-08 00:00:00  2006-12-13 00:00:00       3:00PM  2006-12-13 15:23:18   \n",
       "6  2006-11-08 00:00:00  2006-11-30 00:00:00       9:00AM  2006-11-30 10:23:03   \n",
       "9  2006-11-08 00:00:00  2006-11-30 00:00:00       9:00AM  2006-11-30 10:26:26   \n",
       "\n",
       "                disposition  fine_amount  admin_fee  state_fee  late_fee  \\\n",
       "1    Responsible by Default        250.0       20.0       10.0       0.0   \n",
       "2  Responsible by Admission        250.0       20.0       10.0       0.0   \n",
       "3    Responsible by Default        250.0       20.0       10.0       0.0   \n",
       "6    Responsible by Default        250.0       20.0       10.0       0.0   \n",
       "9    Responsible by Default        250.0       20.0       10.0       0.0   \n",
       "\n",
       "   discount_amount  judgment_amount  balance_due payment_status  \\\n",
       "1              0.0            280.0        280.0     NO PAYMENT   \n",
       "2              0.0            280.0        280.0   PAID IN FULL   \n",
       "3              0.0            280.0        280.0     NO PAYMENT   \n",
       "6              0.0            280.0        280.0     NO PAYMENT   \n",
       "9              0.0            280.0        280.0     NO PAYMENT   \n",
       "\n",
       "  violation_category  is_judgment_later  \n",
       "1     No Certificate                  1  \n",
       "2     No Certificate                  0  \n",
       "3     No Certificate                  1  \n",
       "6     No Certificate                  1  \n",
       "9     No Certificate                  1  "
      ]
     },
     "execution_count": 10,
     "metadata": {},
     "output_type": "execute_result"
    }
   ],
   "source": [
    "df.head()"
   ]
  },
  {
   "cell_type": "code",
   "execution_count": 11,
   "metadata": {},
   "outputs": [
    {
     "data": {
      "text/plain": [
       "agency_name                 0\n",
       "violation_street_name      17\n",
       "state                    3709\n",
       "violation_date              0\n",
       "hearing_date                0\n",
       "hearing_time                0\n",
       "judgment_date               0\n",
       "disposition                 0\n",
       "fine_amount                 2\n",
       "admin_fee                   0\n",
       "state_fee                   0\n",
       "late_fee                    6\n",
       "discount_amount             3\n",
       "judgment_amount             0\n",
       "balance_due                 0\n",
       "payment_status              0\n",
       "violation_category          0\n",
       "is_judgment_later           0\n",
       "dtype: int64"
      ]
     },
     "execution_count": 11,
     "metadata": {},
     "output_type": "execute_result"
    }
   ],
   "source": [
    "df.isnull().sum()"
   ]
  },
  {
   "cell_type": "code",
   "execution_count": 12,
   "metadata": {},
   "outputs": [],
   "source": [
    "df.dropna(inplace=True)"
   ]
  },
  {
   "cell_type": "markdown",
   "metadata": {},
   "source": [
    "## Feature Engineering"
   ]
  },
  {
   "cell_type": "markdown",
   "metadata": {},
   "source": [
    "### Columns"
   ]
  },
  {
   "cell_type": "code",
   "execution_count": 17,
   "metadata": {},
   "outputs": [
    {
     "data": {
      "text/plain": [
       "Index(['agency_name', 'violation_street_name', 'state', 'violation_date',\n",
       "       'hearing_date', 'hearing_time', 'judgment_date', 'disposition',\n",
       "       'fine_amount', 'admin_fee', 'state_fee', 'late_fee', 'discount_amount',\n",
       "       'judgment_amount', 'balance_due', 'payment_status',\n",
       "       'violation_category', 'is_judgment_later'],\n",
       "      dtype='object')"
      ]
     },
     "execution_count": 17,
     "metadata": {},
     "output_type": "execute_result"
    }
   ],
   "source": [
    "df.columns"
   ]
  },
  {
   "cell_type": "code",
   "execution_count": 13,
   "metadata": {},
   "outputs": [],
   "source": [
    "df.drop(columns=['disposition','violation_date','hearing_date','hearing_time','judgment_date'],inplace=True)"
   ]
  },
  {
   "cell_type": "markdown",
   "metadata": {},
   "source": [
    "### Keep only the values with sufficent number of occurrences to avoid overfitting"
   ]
  },
  {
   "cell_type": "markdown",
   "metadata": {},
   "source": [
    "#### Agency Name"
   ]
  },
  {
   "cell_type": "code",
   "execution_count": 9,
   "metadata": {},
   "outputs": [
    {
     "data": {
      "text/plain": [
       "agency_name\n",
       "Buildings, Safety Engineering & Env Department    200552\n",
       "BSEED Environmental Affairs                       153679\n",
       "Detroit Police Department                          13778\n",
       "Health Department                                   5466\n",
       "Neighborhood City Halls                                1\n",
       "Name: count, dtype: int64"
      ]
     },
     "execution_count": 9,
     "metadata": {},
     "output_type": "execute_result"
    }
   ],
   "source": [
    "df['agency_name'].value_counts()"
   ]
  },
  {
   "cell_type": "markdown",
   "metadata": {},
   "source": [
    "With only 1 occurrence, Neighborhood City Halls must be removed to avoid training the model on such unique value."
   ]
  },
  {
   "cell_type": "code",
   "execution_count": 10,
   "metadata": {},
   "outputs": [],
   "source": [
    "df = df.query(\"agency_name != 'Neighborhood City Halls'\")"
   ]
  },
  {
   "cell_type": "markdown",
   "metadata": {},
   "source": [
    "#### Violation Street Name"
   ]
  },
  {
   "cell_type": "code",
   "execution_count": 11,
   "metadata": {},
   "outputs": [],
   "source": [
    "count_street = df['violation_street_name'].value_counts()"
   ]
  },
  {
   "cell_type": "code",
   "execution_count": 12,
   "metadata": {},
   "outputs": [
    {
     "data": {
      "text/plain": [
       "count    1841.000000\n",
       "mean      202.865291\n",
       "std       454.125142\n",
       "min         1.000000\n",
       "25%        11.000000\n",
       "50%        48.000000\n",
       "75%       206.000000\n",
       "max      6976.000000\n",
       "Name: count, dtype: float64"
      ]
     },
     "execution_count": 12,
     "metadata": {},
     "output_type": "execute_result"
    }
   ],
   "source": [
    "count_street.describe()"
   ]
  },
  {
   "cell_type": "markdown",
   "metadata": {},
   "source": [
    "Keep only the rows with occurrences>50 or remove this feature ?"
   ]
  },
  {
   "cell_type": "markdown",
   "metadata": {},
   "source": [
    "#### State"
   ]
  },
  {
   "cell_type": "code",
   "execution_count": 13,
   "metadata": {},
   "outputs": [],
   "source": [
    "state_count = df['state'].value_counts()"
   ]
  },
  {
   "cell_type": "markdown",
   "metadata": {},
   "source": [
    "#### Fine Amount"
   ]
  },
  {
   "cell_type": "code",
   "execution_count": 14,
   "metadata": {},
   "outputs": [
    {
     "data": {
      "text/plain": [
       "count    373475.000000\n",
       "mean        310.436496\n",
       "std         446.711317\n",
       "min           1.000000\n",
       "25%         100.000000\n",
       "50%         250.000000\n",
       "75%         250.000000\n",
       "max       10000.000000\n",
       "Name: fine_amount, dtype: float64"
      ]
     },
     "execution_count": 14,
     "metadata": {},
     "output_type": "execute_result"
    }
   ],
   "source": [
    "df['fine_amount'].describe()"
   ]
  },
  {
   "cell_type": "code",
   "execution_count": 15,
   "metadata": {},
   "outputs": [],
   "source": [
    "df = df.drop(columns=['fine_amount'])"
   ]
  },
  {
   "cell_type": "markdown",
   "metadata": {},
   "source": [
    "#### Admin Fee"
   ]
  },
  {
   "cell_type": "code",
   "execution_count": 16,
   "metadata": {},
   "outputs": [
    {
     "data": {
      "text/plain": [
       "count    373475.0\n",
       "mean         20.0\n",
       "std           0.0\n",
       "min          20.0\n",
       "25%          20.0\n",
       "50%          20.0\n",
       "75%          20.0\n",
       "max          20.0\n",
       "Name: admin_fee, dtype: float64"
      ]
     },
     "execution_count": 16,
     "metadata": {},
     "output_type": "execute_result"
    }
   ],
   "source": [
    "df['admin_fee'].describe()"
   ]
  },
  {
   "cell_type": "code",
   "execution_count": 17,
   "metadata": {},
   "outputs": [
    {
     "data": {
      "text/plain": [
       "admin_fee\n",
       "20.0    373475\n",
       "Name: count, dtype: int64"
      ]
     },
     "execution_count": 17,
     "metadata": {},
     "output_type": "execute_result"
    }
   ],
   "source": [
    "df['admin_fee'].value_counts()"
   ]
  },
  {
   "cell_type": "markdown",
   "metadata": {},
   "source": [
    "Admin Fee always has the same value.\n",
    "It is better to remove this feature."
   ]
  },
  {
   "cell_type": "code",
   "execution_count": 18,
   "metadata": {},
   "outputs": [],
   "source": [
    "df = df.drop(columns=['admin_fee'])"
   ]
  },
  {
   "cell_type": "markdown",
   "metadata": {},
   "source": [
    "#### State Fee"
   ]
  },
  {
   "cell_type": "code",
   "execution_count": 19,
   "metadata": {},
   "outputs": [
    {
     "data": {
      "text/plain": [
       "state_fee\n",
       "10.0    373475\n",
       "Name: count, dtype: int64"
      ]
     },
     "execution_count": 19,
     "metadata": {},
     "output_type": "execute_result"
    }
   ],
   "source": [
    "df['state_fee'].value_counts()"
   ]
  },
  {
   "cell_type": "markdown",
   "metadata": {},
   "source": [
    "Same for State Fee, let's remove it as well."
   ]
  },
  {
   "cell_type": "code",
   "execution_count": 20,
   "metadata": {},
   "outputs": [],
   "source": [
    "df = df.drop(columns=['state_fee'])"
   ]
  },
  {
   "cell_type": "markdown",
   "metadata": {},
   "source": [
    "#### Late Fee"
   ]
  },
  {
   "cell_type": "code",
   "execution_count": 21,
   "metadata": {},
   "outputs": [
    {
     "data": {
      "text/plain": [
       "late_fee\n",
       "0.00      275678\n",
       "25.00      32599\n",
       "5.00       16699\n",
       "10.00      13048\n",
       "50.00      12959\n",
       "           ...  \n",
       "145.00         1\n",
       "51.00          1\n",
       "0.26           1\n",
       "56.35          1\n",
       "222.00         1\n",
       "Name: count, Length: 126, dtype: int64"
      ]
     },
     "execution_count": 21,
     "metadata": {},
     "output_type": "execute_result"
    }
   ],
   "source": [
    "df['late_fee'].value_counts()"
   ]
  },
  {
   "cell_type": "code",
   "execution_count": 22,
   "metadata": {},
   "outputs": [
    {
     "data": {
      "text/plain": [
       "count    373475.000000\n",
       "mean          8.040115\n",
       "std          25.483829\n",
       "min          -1.000000\n",
       "25%           0.000000\n",
       "50%           0.000000\n",
       "75%           5.000000\n",
       "max        1000.000000\n",
       "Name: late_fee, dtype: float64"
      ]
     },
     "execution_count": 22,
     "metadata": {},
     "output_type": "execute_result"
    }
   ],
   "source": [
    "df['late_fee'].describe()"
   ]
  },
  {
   "cell_type": "markdown",
   "metadata": {},
   "source": [
    "The values for late fees seeem to vary a lot. It's also better to remove it."
   ]
  },
  {
   "cell_type": "code",
   "execution_count": 23,
   "metadata": {},
   "outputs": [],
   "source": [
    "df = df.drop(columns=['late_fee'])"
   ]
  },
  {
   "cell_type": "markdown",
   "metadata": {},
   "source": [
    "#### Discount Amount"
   ]
  },
  {
   "cell_type": "code",
   "execution_count": 24,
   "metadata": {},
   "outputs": [
    {
     "data": {
      "text/plain": [
       "discount_amount\n",
       "0.0       345907\n",
       "25.0        8916\n",
       "5.0         5948\n",
       "10.0        5094\n",
       "20.0        3466\n",
       "50.0        2340\n",
       "100.0        611\n",
       "12.5         198\n",
       "2.5          186\n",
       "80.0         172\n",
       "150.0        138\n",
       "30.0         132\n",
       "75.0          92\n",
       "40.0          73\n",
       "350.0         45\n",
       "250.0         43\n",
       "60.0          35\n",
       "35.0          23\n",
       "200.0         16\n",
       "37.5          11\n",
       "125.0         10\n",
       "500.0          7\n",
       "120.0          4\n",
       "1000.0         3\n",
       "255.0          2\n",
       "930.0          1\n",
       "300.0          1\n",
       "3.0            1\n",
       "Name: count, dtype: int64"
      ]
     },
     "execution_count": 24,
     "metadata": {},
     "output_type": "execute_result"
    }
   ],
   "source": [
    "df['discount_amount'].value_counts()"
   ]
  },
  {
   "cell_type": "markdown",
   "metadata": {},
   "source": [
    "It would be better to transform this information to identify the presence of a discount, and not its amount."
   ]
  },
  {
   "cell_type": "code",
   "execution_count": 25,
   "metadata": {},
   "outputs": [],
   "source": [
    "def amount_to_discount(row):\n",
    "    if row['discount_amount']==0:\n",
    "        return \"No Discount\"\n",
    "    else:\n",
    "        return \"Discount\"\n",
    "\n"
   ]
  },
  {
   "cell_type": "code",
   "execution_count": 26,
   "metadata": {},
   "outputs": [],
   "source": [
    "df['discount_status'] = df.apply(amount_to_discount, axis=1)"
   ]
  },
  {
   "cell_type": "code",
   "execution_count": 27,
   "metadata": {},
   "outputs": [],
   "source": [
    "df = df.drop(columns=['discount_amount'])"
   ]
  },
  {
   "cell_type": "markdown",
   "metadata": {},
   "source": [
    "#### Judgment Amount"
   ]
  },
  {
   "cell_type": "code",
   "execution_count": 28,
   "metadata": {},
   "outputs": [
    {
     "data": {
      "text/plain": [
       "count    373475.000000\n",
       "mean        355.372300\n",
       "std         484.020992\n",
       "min         -20.000000\n",
       "25%         130.000000\n",
       "50%         280.000000\n",
       "75%         305.000000\n",
       "max       23977.700000\n",
       "Name: judgment_amount, dtype: float64"
      ]
     },
     "execution_count": 28,
     "metadata": {},
     "output_type": "execute_result"
    }
   ],
   "source": [
    "df['judgment_amount'].describe()"
   ]
  },
  {
   "cell_type": "markdown",
   "metadata": {},
   "source": [
    "We should keep only the amounts superior to 0. \n",
    "Other amounts are not realistic or difficult to interpret."
   ]
  },
  {
   "cell_type": "code",
   "execution_count": 29,
   "metadata": {},
   "outputs": [],
   "source": [
    "df = df.query(\"judgment_amount>0\")"
   ]
  },
  {
   "cell_type": "markdown",
   "metadata": {},
   "source": []
  },
  {
   "cell_type": "code",
   "execution_count": 18,
   "metadata": {},
   "outputs": [
    {
     "data": {
      "text/plain": [
       "count    377213.000000\n",
       "mean        237.056725\n",
       "std         453.044143\n",
       "min       -3880.000000\n",
       "25%           0.000000\n",
       "50%         130.000000\n",
       "75%         280.000000\n",
       "max       23977.700000\n",
       "Name: balance_due, dtype: float64"
      ]
     },
     "execution_count": 18,
     "metadata": {},
     "output_type": "execute_result"
    }
   ],
   "source": [
    "df['balance_due'].describe()"
   ]
  },
  {
   "cell_type": "code",
   "execution_count": 19,
   "metadata": {},
   "outputs": [
    {
     "data": {
      "text/plain": [
       "<Axes: xlabel='balance_due', ylabel='Count'>"
      ]
     },
     "execution_count": 19,
     "metadata": {},
     "output_type": "execute_result"
    },
    {
     "data": {
      "image/png": "[encoded data removed]",
      "text/plain": [
       "<Figure size 640x480 with 1 Axes>"
      ]
     },
     "metadata": {},
     "output_type": "display_data"
    }
   ],
   "source": [
    "# Show in a histplot the balance due\n",
    "sns.histplot(df['balance_due'])"
   ]
  },
  {
   "cell_type": "code",
   "execution_count": 20,
   "metadata": {},
   "outputs": [
    {
     "data": {
      "text/plain": [
       "balance_due\n",
       " 0.0       122666\n",
       " 280.0      84409\n",
       " 80.0       37942\n",
       " 530.0      28010\n",
       " 130.0      26678\n",
       " 230.0      20446\n",
       " 1030.0     10372\n",
       " 255.0       3145\n",
       " 780.0       2469\n",
       " 155.0       2429\n",
       " 330.0       2360\n",
       " 3530.0      1712\n",
       " 305.0       1470\n",
       " 1530.0      1393\n",
       " 55.0        1321\n",
       " 2530.0      1213\n",
       " 120.0        875\n",
       " 380.0        867\n",
       " 270.0        852\n",
       "-25.0         851\n",
       " 310.0        779\n",
       " 430.0        675\n",
       " 405.0        624\n",
       " 75.0         613\n",
       "-5.0          599\n",
       " 2030.0       564\n",
       " 350.0        541\n",
       " 20.0         513\n",
       "-10.0         477\n",
       " 25.0         477\n",
       "-20.0         476\n",
       " 50.0         473\n",
       " 250.0        433\n",
       " 140.0        432\n",
       " 630.0        384\n",
       "-50.0         381\n",
       " 730.0        379\n",
       " 30.0         361\n",
       " 390.0        357\n",
       " 5.0          350\n",
       " 85.0         344\n",
       " 10.0         341\n",
       " 1430.0       315\n",
       " 290.0        301\n",
       " 210.0        296\n",
       " 100.0        294\n",
       " 830.0        289\n",
       " 150.0        286\n",
       " 480.0        285\n",
       " 580.0        275\n",
       "Name: count, dtype: int64"
      ]
     },
     "execution_count": 20,
     "metadata": {},
     "output_type": "execute_result"
    }
   ],
   "source": [
    "# Show the top 50 values in balance due\n",
    "df['balance_due'].value_counts().head(50)"
   ]
  },
  {
   "cell_type": "code",
   "execution_count": 21,
   "metadata": {},
   "outputs": [
    {
     "data": {
      "text/plain": [
       "balance_due\n",
       " 107.53     1\n",
       "-89.00      1\n",
       " 30.42      1\n",
       " 522.00     1\n",
       " 319.36     1\n",
       " 161.86     1\n",
       " 563.55     1\n",
       " 5548.80    1\n",
       " 455.57     1\n",
       " 272.55     1\n",
       " 62.99      1\n",
       " 937.00     1\n",
       " 100.68     1\n",
       " 219.81     1\n",
       " 1653.18    1\n",
       " 671.30     1\n",
       " 464.30     1\n",
       " 3751.30    1\n",
       " 309.80     1\n",
       " 273.40     1\n",
       " 438.49     1\n",
       " 451.43     1\n",
       " 229.49     1\n",
       " 125.21     1\n",
       " 23.79      1\n",
       " 245.04     1\n",
       " 1422.55    1\n",
       " 933.80     1\n",
       " 4585.05    1\n",
       " 554.30     1\n",
       " 1853.80    1\n",
       " 7172.55    1\n",
       " 450.80     1\n",
       " 6626.30    1\n",
       " 433.55     1\n",
       " 8530.00    1\n",
       " 59.54      1\n",
       " 3283.80    1\n",
       " 3533.80    1\n",
       " 392.98     1\n",
       " 810.05     1\n",
       " 471.80     1\n",
       " 1064.10    1\n",
       " 7388.80    1\n",
       " 398.80     1\n",
       " 220.74     1\n",
       " 594.43     1\n",
       " 222.01     1\n",
       " 617.55     1\n",
       " 1480.00    1\n",
       "Name: count, dtype: int64"
      ]
     },
     "execution_count": 21,
     "metadata": {},
     "output_type": "execute_result"
    }
   ],
   "source": [
    "# Show the top 50 values in balance due\n",
    "df['balance_due']."
   ]
  },
  {
   "cell_type": "code",
   "execution_count": 30,
   "metadata": {},
   "outputs": [],
   "source": [
    "df = df.drop(columns=['balance_due'])"
   ]
  },
  {
   "cell_type": "markdown",
   "metadata": {},
   "source": [
    "## Final dataframe"
   ]
  },
  {
   "cell_type": "code",
   "execution_count": 31,
   "metadata": {},
   "outputs": [
    {
     "data": {
      "text/plain": [
       "Index(['agency_name', 'violation_street_name', 'state', 'judgment_amount',\n",
       "       'payment_status', 'violation_category', 'is_judgment_later',\n",
       "       'discount_status'],\n",
       "      dtype='object')"
      ]
     },
     "execution_count": 31,
     "metadata": {},
     "output_type": "execute_result"
    }
   ],
   "source": [
    "df.columns"
   ]
  },
  {
   "cell_type": "code",
   "execution_count": 32,
   "metadata": {},
   "outputs": [],
   "source": [
    "df.reset_index(inplace=True,drop=True)"
   ]
  },
  {
   "cell_type": "code",
   "execution_count": 33,
   "metadata": {},
   "outputs": [
    {
     "data": {
      "text/html": [
       "<div>\n",
       "<style scoped>\n",
       "    .dataframe tbody tr th:only-of-type {\n",
       "        vertical-align: middle;\n",
       "    }\n",
       "\n",
       "    .dataframe tbody tr th {\n",
       "        vertical-align: top;\n",
       "    }\n",
       "\n",
       "    .dataframe thead th {\n",
       "        text-align: right;\n",
       "    }\n",
       "</style>\n",
       "<table border=\"1\" class=\"dataframe\">\n",
       "  <thead>\n",
       "    <tr style=\"text-align: right;\">\n",
       "      <th></th>\n",
       "      <th>agency_name</th>\n",
       "      <th>violation_street_name</th>\n",
       "      <th>state</th>\n",
       "      <th>judgment_amount</th>\n",
       "      <th>payment_status</th>\n",
       "      <th>violation_category</th>\n",
       "      <th>is_judgment_later</th>\n",
       "      <th>discount_status</th>\n",
       "    </tr>\n",
       "  </thead>\n",
       "  <tbody>\n",
       "    <tr>\n",
       "      <th>0</th>\n",
       "      <td>Buildings, Safety Engineering &amp; Env Department</td>\n",
       "      <td>Charlevoix</td>\n",
       "      <td>Mi</td>\n",
       "      <td>280.0</td>\n",
       "      <td>NO PAYMENT</td>\n",
       "      <td>No Certificate</td>\n",
       "      <td>1</td>\n",
       "      <td>No Discount</td>\n",
       "    </tr>\n",
       "    <tr>\n",
       "      <th>1</th>\n",
       "      <td>Buildings, Safety Engineering &amp; Env Department</td>\n",
       "      <td>Chrysler</td>\n",
       "      <td>Mi</td>\n",
       "      <td>280.0</td>\n",
       "      <td>PAID IN FULL</td>\n",
       "      <td>No Certificate</td>\n",
       "      <td>0</td>\n",
       "      <td>No Discount</td>\n",
       "    </tr>\n",
       "    <tr>\n",
       "      <th>2</th>\n",
       "      <td>Buildings, Safety Engineering &amp; Env Department</td>\n",
       "      <td>St marys</td>\n",
       "      <td>Mi</td>\n",
       "      <td>280.0</td>\n",
       "      <td>NO PAYMENT</td>\n",
       "      <td>No Certificate</td>\n",
       "      <td>1</td>\n",
       "      <td>No Discount</td>\n",
       "    </tr>\n",
       "    <tr>\n",
       "      <th>3</th>\n",
       "      <td>Buildings, Safety Engineering &amp; Env Department</td>\n",
       "      <td>Warren</td>\n",
       "      <td>Mi</td>\n",
       "      <td>280.0</td>\n",
       "      <td>NO PAYMENT</td>\n",
       "      <td>No Certificate</td>\n",
       "      <td>1</td>\n",
       "      <td>No Discount</td>\n",
       "    </tr>\n",
       "    <tr>\n",
       "      <th>4</th>\n",
       "      <td>Buildings, Safety Engineering &amp; Env Department</td>\n",
       "      <td>Oakland</td>\n",
       "      <td>Mi</td>\n",
       "      <td>280.0</td>\n",
       "      <td>NO PAYMENT</td>\n",
       "      <td>No Certificate</td>\n",
       "      <td>1</td>\n",
       "      <td>No Discount</td>\n",
       "    </tr>\n",
       "  </tbody>\n",
       "</table>\n",
       "</div>"
      ],
      "text/plain": [
       "                                      agency_name violation_street_name state  \\\n",
       "0  Buildings, Safety Engineering & Env Department            Charlevoix    Mi   \n",
       "1  Buildings, Safety Engineering & Env Department              Chrysler    Mi   \n",
       "2  Buildings, Safety Engineering & Env Department              St marys    Mi   \n",
       "3  Buildings, Safety Engineering & Env Department                Warren    Mi   \n",
       "4  Buildings, Safety Engineering & Env Department               Oakland    Mi   \n",
       "\n",
       "   judgment_amount payment_status violation_category  is_judgment_later  \\\n",
       "0            280.0     NO PAYMENT     No Certificate                  1   \n",
       "1            280.0   PAID IN FULL     No Certificate                  0   \n",
       "2            280.0     NO PAYMENT     No Certificate                  1   \n",
       "3            280.0     NO PAYMENT     No Certificate                  1   \n",
       "4            280.0     NO PAYMENT     No Certificate                  1   \n",
       "\n",
       "  discount_status  \n",
       "0     No Discount  \n",
       "1     No Discount  \n",
       "2     No Discount  \n",
       "3     No Discount  \n",
       "4     No Discount  "
      ]
     },
     "execution_count": 33,
     "metadata": {},
     "output_type": "execute_result"
    }
   ],
   "source": [
    "df.head()"
   ]
  },
  {
   "cell_type": "markdown",
   "metadata": {},
   "source": [
    "### City and violation streetname"
   ]
  },
  {
   "cell_type": "code",
   "execution_count": 4,
   "metadata": {},
   "outputs": [
    {
     "data": {
      "text/html": [
       "<div>\n",
       "<style scoped>\n",
       "    .dataframe tbody tr th:only-of-type {\n",
       "        vertical-align: middle;\n",
       "    }\n",
       "\n",
       "    .dataframe tbody tr th {\n",
       "        vertical-align: top;\n",
       "    }\n",
       "\n",
       "    .dataframe thead th {\n",
       "        text-align: right;\n",
       "    }\n",
       "</style>\n",
       "<table border=\"1\" class=\"dataframe\">\n",
       "  <thead>\n",
       "    <tr style=\"text-align: right;\">\n",
       "      <th></th>\n",
       "      <th>city</th>\n",
       "      <th>violation_street_name</th>\n",
       "    </tr>\n",
       "  </thead>\n",
       "  <tbody>\n",
       "    <tr>\n",
       "      <th>1</th>\n",
       "      <td>ROSEVILLE</td>\n",
       "      <td>Charlevoix</td>\n",
       "    </tr>\n",
       "    <tr>\n",
       "      <th>2</th>\n",
       "      <td>DETROIT</td>\n",
       "      <td>Chrysler</td>\n",
       "    </tr>\n",
       "    <tr>\n",
       "      <th>3</th>\n",
       "      <td>DEARBORN</td>\n",
       "      <td>St marys</td>\n",
       "    </tr>\n",
       "    <tr>\n",
       "      <th>6</th>\n",
       "      <td>DETROIT</td>\n",
       "      <td>Warren</td>\n",
       "    </tr>\n",
       "    <tr>\n",
       "      <th>9</th>\n",
       "      <td>DETROIT</td>\n",
       "      <td>Oakland</td>\n",
       "    </tr>\n",
       "    <tr>\n",
       "      <th>...</th>\n",
       "      <td>...</td>\n",
       "      <td>...</td>\n",
       "    </tr>\n",
       "    <tr>\n",
       "      <th>629952</th>\n",
       "      <td>DETROIT</td>\n",
       "      <td>Rosemont</td>\n",
       "    </tr>\n",
       "    <tr>\n",
       "      <th>629953</th>\n",
       "      <td>DETROIT</td>\n",
       "      <td>Pinehurst</td>\n",
       "    </tr>\n",
       "    <tr>\n",
       "      <th>629955</th>\n",
       "      <td>DETROIT</td>\n",
       "      <td>Trinity</td>\n",
       "    </tr>\n",
       "    <tr>\n",
       "      <th>629960</th>\n",
       "      <td>DETROIT</td>\n",
       "      <td>Mendota</td>\n",
       "    </tr>\n",
       "    <tr>\n",
       "      <th>629961</th>\n",
       "      <td>DETROIT</td>\n",
       "      <td>Cass</td>\n",
       "    </tr>\n",
       "  </tbody>\n",
       "</table>\n",
       "<p>373492 rows × 2 columns</p>\n",
       "</div>"
      ],
      "text/plain": [
       "             city violation_street_name\n",
       "1       ROSEVILLE            Charlevoix\n",
       "2         DETROIT              Chrysler\n",
       "3        DEARBORN              St marys\n",
       "6         DETROIT                Warren\n",
       "9         DETROIT               Oakland\n",
       "...           ...                   ...\n",
       "629952    DETROIT              Rosemont\n",
       "629953    DETROIT             Pinehurst\n",
       "629955    DETROIT               Trinity\n",
       "629960    DETROIT               Mendota\n",
       "629961    DETROIT                  Cass\n",
       "\n",
       "[373492 rows x 2 columns]"
      ]
     },
     "execution_count": 4,
     "metadata": {},
     "output_type": "execute_result"
    }
   ],
   "source": [
    "df[['city','violation_street_name']]"
   ]
  },
  {
   "cell_type": "code",
   "execution_count": 11,
   "metadata": {},
   "outputs": [],
   "source": [
    "df['city'] = df['city'].apply(lambda x: x.lower().strip())"
   ]
  },
  {
   "cell_type": "code",
   "execution_count": 14,
   "metadata": {},
   "outputs": [
    {
     "data": {
      "text/plain": [
       "state\n",
       "25    318276\n",
       "12     13168\n",
       "6      10532\n",
       "50      4641\n",
       "37      4131\n",
       "53      2068\n",
       "36      1612\n",
       "38      1559\n",
       "17      1557\n",
       "13      1544\n",
       "34      1108\n",
       "47      1080\n",
       "3        989\n",
       "7        934\n",
       "42       858\n",
       "52       745\n",
       "11       661\n",
       "59       648\n",
       "23       635\n",
       "26       576\n",
       "30       565\n",
       "56       536\n",
       "22       463\n",
       "1        375\n",
       "27       333\n",
       "49       320\n",
       "10       312\n",
       "41       283\n",
       "20       249\n",
       "14       225\n",
       "18       219\n",
       "39       216\n",
       "21       180\n",
       "24       179\n",
       "57       167\n",
       "15       159\n",
       "51       149\n",
       "35       138\n",
       "46       113\n",
       "28       111\n",
       "8        105\n",
       "0         93\n",
       "32        85\n",
       "16        84\n",
       "2         83\n",
       "40        72\n",
       "19        61\n",
       "4         57\n",
       "29        52\n",
       "33        42\n",
       "54        31\n",
       "55        25\n",
       "48        21\n",
       "58        19\n",
       "31        17\n",
       "43        14\n",
       "44         9\n",
       "9          4\n",
       "45         3\n",
       "5          1\n",
       "Name: count, dtype: int64"
      ]
     },
     "execution_count": 14,
     "metadata": {},
     "output_type": "execute_result"
    }
   ],
   "source": [
    "df['state'].value_counts()"
   ]
  },
  {
   "cell_type": "code",
   "execution_count": null,
   "metadata": {},
   "outputs": [],
   "source": [
    "def state_violator_origin(row):\n",
    "    if row['state'] == 'MI' and row['city']== 'Detroit':\n",
    "        return 'Violator living in Detroit'\n",
    "    elif row['state'] == 'MI' and row['city'] != 'Detroit':\n",
    "        return 'Violator living in Michigan but not in Detroit'\n",
    "    else: \n",
    "        return 'Violator living outside Michigan'"
   ]
  },
  {
   "cell_type": "code",
   "execution_count": null,
   "metadata": {},
   "outputs": [],
   "source": [
    "df['state'].apply(lambda x: 'MI' if x == 'MI' else 'Other')\n"
   ]
  },
  {
   "cell_type": "markdown",
   "metadata": {},
   "source": [
    "## Encode Categorical Values"
   ]
  },
  {
   "cell_type": "code",
   "execution_count": 34,
   "metadata": {},
   "outputs": [],
   "source": [
    "to_encode = ['agency_name', 'violation_street_name', 'state', 'payment_status', 'violation_category','discount_status']"
   ]
  },
  {
   "cell_type": "code",
   "execution_count": 35,
   "metadata": {},
   "outputs": [],
   "source": [
    "def label_encode(df):\n",
    "    label_encoder = LabelEncoder()\n",
    "    for col in to_encode:\n",
    "        df[col] = label_encoder.fit_transform(df[col])\n",
    "    return df"
   ]
  },
  {
   "cell_type": "code",
   "execution_count": 36,
   "metadata": {},
   "outputs": [],
   "source": [
    "df = label_encode(df)"
   ]
  },
  {
   "cell_type": "code",
   "execution_count": 4,
   "metadata": {},
   "outputs": [
    {
     "data": {
      "text/html": [
       "<div>\n",
       "<style scoped>\n",
       "    .dataframe tbody tr th:only-of-type {\n",
       "        vertical-align: middle;\n",
       "    }\n",
       "\n",
       "    .dataframe tbody tr th {\n",
       "        vertical-align: top;\n",
       "    }\n",
       "\n",
       "    .dataframe thead th {\n",
       "        text-align: right;\n",
       "    }\n",
       "</style>\n",
       "<table border=\"1\" class=\"dataframe\">\n",
       "  <thead>\n",
       "    <tr style=\"text-align: right;\">\n",
       "      <th></th>\n",
       "      <th>agency_name</th>\n",
       "      <th>disposition</th>\n",
       "      <th>fine_amount</th>\n",
       "      <th>late_fee</th>\n",
       "      <th>judgment_amount</th>\n",
       "      <th>balance_due</th>\n",
       "      <th>payment_status</th>\n",
       "      <th>violation_category</th>\n",
       "      <th>is_judgment_later</th>\n",
       "      <th>discount_status</th>\n",
       "      <th>violator_origin</th>\n",
       "    </tr>\n",
       "  </thead>\n",
       "  <tbody>\n",
       "    <tr>\n",
       "      <th>1</th>\n",
       "      <td>1</td>\n",
       "      <td>7</td>\n",
       "      <td>250.0</td>\n",
       "      <td>0.0</td>\n",
       "      <td>280.0</td>\n",
       "      <td>280.0</td>\n",
       "      <td>0</td>\n",
       "      <td>1</td>\n",
       "      <td>1</td>\n",
       "      <td>1</td>\n",
       "      <td>0</td>\n",
       "    </tr>\n",
       "    <tr>\n",
       "      <th>2</th>\n",
       "      <td>1</td>\n",
       "      <td>6</td>\n",
       "      <td>250.0</td>\n",
       "      <td>0.0</td>\n",
       "      <td>280.0</td>\n",
       "      <td>280.0</td>\n",
       "      <td>1</td>\n",
       "      <td>1</td>\n",
       "      <td>0</td>\n",
       "      <td>1</td>\n",
       "      <td>0</td>\n",
       "    </tr>\n",
       "    <tr>\n",
       "      <th>3</th>\n",
       "      <td>1</td>\n",
       "      <td>7</td>\n",
       "      <td>250.0</td>\n",
       "      <td>0.0</td>\n",
       "      <td>280.0</td>\n",
       "      <td>280.0</td>\n",
       "      <td>0</td>\n",
       "      <td>1</td>\n",
       "      <td>1</td>\n",
       "      <td>1</td>\n",
       "      <td>0</td>\n",
       "    </tr>\n",
       "    <tr>\n",
       "      <th>6</th>\n",
       "      <td>1</td>\n",
       "      <td>7</td>\n",
       "      <td>250.0</td>\n",
       "      <td>0.0</td>\n",
       "      <td>280.0</td>\n",
       "      <td>280.0</td>\n",
       "      <td>0</td>\n",
       "      <td>1</td>\n",
       "      <td>1</td>\n",
       "      <td>1</td>\n",
       "      <td>0</td>\n",
       "    </tr>\n",
       "    <tr>\n",
       "      <th>9</th>\n",
       "      <td>1</td>\n",
       "      <td>7</td>\n",
       "      <td>250.0</td>\n",
       "      <td>0.0</td>\n",
       "      <td>280.0</td>\n",
       "      <td>280.0</td>\n",
       "      <td>0</td>\n",
       "      <td>1</td>\n",
       "      <td>1</td>\n",
       "      <td>1</td>\n",
       "      <td>0</td>\n",
       "    </tr>\n",
       "  </tbody>\n",
       "</table>\n",
       "</div>"
      ],
      "text/plain": [
       "   agency_name  disposition  fine_amount  late_fee  judgment_amount  \\\n",
       "1            1            7        250.0       0.0            280.0   \n",
       "2            1            6        250.0       0.0            280.0   \n",
       "3            1            7        250.0       0.0            280.0   \n",
       "6            1            7        250.0       0.0            280.0   \n",
       "9            1            7        250.0       0.0            280.0   \n",
       "\n",
       "   balance_due  payment_status  violation_category  is_judgment_later  \\\n",
       "1        280.0               0                   1                  1   \n",
       "2        280.0               1                   1                  0   \n",
       "3        280.0               0                   1                  1   \n",
       "6        280.0               0                   1                  1   \n",
       "9        280.0               0                   1                  1   \n",
       "\n",
       "   discount_status  violator_origin  \n",
       "1                1                0  \n",
       "2                1                0  \n",
       "3                1                0  \n",
       "6                1                0  \n",
       "9                1                0  "
      ]
     },
     "execution_count": 4,
     "metadata": {},
     "output_type": "execute_result"
    }
   ],
   "source": [
    "df.head()"
   ]
  },
  {
   "cell_type": "markdown",
   "metadata": {},
   "source": [
    "## Export"
   ]
  },
  {
   "cell_type": "code",
   "execution_count": 38,
   "metadata": {},
   "outputs": [],
   "source": [
    "df.to_csv('df_process.csv')"
   ]
  }
 ],
 "metadata": {
  "kernelspec": {
   "display_name": "myenv",
   "language": "python",
   "name": "python3"
  },
  "language_info": {
   "codemirror_mode": {
    "name": "ipython",
    "version": 3
   },
   "file_extension": ".py",
   "mimetype": "text/x-python",
   "name": "python",
   "nbconvert_exporter": "python",
   "pygments_lexer": "ipython3",
   "version": "3.11.5"
  }
 },
 "nbformat": 4,
 "nbformat_minor": 2
}
